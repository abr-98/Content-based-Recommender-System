{
  "nbformat": 4,
  "nbformat_minor": 0,
  "metadata": {
    "colab": {
      "name": "Movie_recommender.ipynb",
      "provenance": []
    },
    "kernelspec": {
      "name": "python3",
      "display_name": "Python 3"
    }
  },
  "cells": [
    {
      "cell_type": "markdown",
      "metadata": {
        "id": "MMjsBGxp9kpS",
        "colab_type": "text"
      },
      "source": [
        "### Drive Mounter"
      ]
    },
    {
      "cell_type": "code",
      "metadata": {
        "id": "oJzLNr4z9iz_",
        "colab_type": "code",
        "colab": {
          "base_uri": "https://localhost:8080/",
          "height": 54
        },
        "outputId": "2ef2248c-09ec-4e21-f027-b137895e1548"
      },
      "source": [
        "from google.colab import drive\n",
        "drive.mount('/content/drive')"
      ],
      "execution_count": 12,
      "outputs": [
        {
          "output_type": "stream",
          "text": [
            "Drive already mounted at /content/drive; to attempt to forcibly remount, call drive.mount(\"/content/drive\", force_remount=True).\n"
          ],
          "name": "stdout"
        }
      ]
    },
    {
      "cell_type": "markdown",
      "metadata": {
        "id": "lJyU2GO99we8",
        "colab_type": "text"
      },
      "source": [
        "### Data Preprocessing"
      ]
    },
    {
      "cell_type": "code",
      "metadata": {
        "id": "MTqGIjSj9zvl",
        "colab_type": "code",
        "colab": {}
      },
      "source": [
        "fldr=\"drive/My Drive/movie recommendation system/Movielens\""
      ],
      "execution_count": 3,
      "outputs": []
    },
    {
      "cell_type": "code",
      "metadata": {
        "id": "euWsFO6UBVW8",
        "colab_type": "code",
        "colab": {
          "base_uri": "https://localhost:8080/",
          "height": 119
        },
        "outputId": "35d556ab-88fd-4cd4-e2e4-963cbc4bbcbc"
      },
      "source": [
        "import os\n",
        "os.listdir(fldr)"
      ],
      "execution_count": 3,
      "outputs": [
        {
          "output_type": "execute_result",
          "data": {
            "text/plain": [
              "['genome_scores.csv',\n",
              " 'rating.csv',\n",
              " 'genome_tags.csv',\n",
              " 'movie.csv',\n",
              " 'link.csv',\n",
              " 'tag.csv']"
            ]
          },
          "metadata": {
            "tags": []
          },
          "execution_count": 3
        }
      ]
    },
    {
      "cell_type": "code",
      "metadata": {
        "id": "q5Bd2HHoBbe0",
        "colab_type": "code",
        "colab": {}
      },
      "source": [
        "import pandas as pd\n",
        "df_ratings=pd.read_csv(fldr+'/rating.csv')"
      ],
      "execution_count": 4,
      "outputs": []
    },
    {
      "cell_type": "code",
      "metadata": {
        "id": "P6F9F6rGCF7l",
        "colab_type": "code",
        "colab": {
          "base_uri": "https://localhost:8080/",
          "height": 119
        },
        "outputId": "af4a7952-9dfd-4730-9740-adf74bd402ba"
      },
      "source": [
        "print(df_ratings.head())"
      ],
      "execution_count": 5,
      "outputs": [
        {
          "output_type": "stream",
          "text": [
            "   userId  movieId  rating            timestamp\n",
            "0       1        2     3.5  2005-04-02 23:53:47\n",
            "1       1       29     3.5  2005-04-02 23:31:16\n",
            "2       1       32     3.5  2005-04-02 23:33:39\n",
            "3       1       47     3.5  2005-04-02 23:32:07\n",
            "4       1       50     3.5  2005-04-02 23:29:40\n"
          ],
          "name": "stdout"
        }
      ]
    },
    {
      "cell_type": "code",
      "metadata": {
        "id": "k5MNV0zWCST4",
        "colab_type": "code",
        "colab": {}
      },
      "source": [
        "df_ratings_2=df_ratings.drop(['timestamp'],axis=1)"
      ],
      "execution_count": 6,
      "outputs": []
    },
    {
      "cell_type": "code",
      "metadata": {
        "id": "VSFtfdqqCrKU",
        "colab_type": "code",
        "colab": {
          "base_uri": "https://localhost:8080/",
          "height": 119
        },
        "outputId": "8d7a6649-ca21-4b92-8dcb-567a56bf1546"
      },
      "source": [
        "print(df_ratings_2.head())"
      ],
      "execution_count": 7,
      "outputs": [
        {
          "output_type": "stream",
          "text": [
            "   userId  movieId  rating\n",
            "0       1        2     3.5\n",
            "1       1       29     3.5\n",
            "2       1       32     3.5\n",
            "3       1       47     3.5\n",
            "4       1       50     3.5\n"
          ],
          "name": "stdout"
        }
      ]
    },
    {
      "cell_type": "code",
      "metadata": {
        "id": "2xsmf5YwCuCc",
        "colab_type": "code",
        "colab": {
          "base_uri": "https://localhost:8080/",
          "height": 34
        },
        "outputId": "8c5706a7-cc07-4ec0-fcc7-ea7065f6a771"
      },
      "source": [
        "print(len(df_ratings_2['userId'].unique()))"
      ],
      "execution_count": 8,
      "outputs": [
        {
          "output_type": "stream",
          "text": [
            "138493\n"
          ],
          "name": "stdout"
        }
      ]
    },
    {
      "cell_type": "code",
      "metadata": {
        "id": "jQ6hs-EqC_0X",
        "colab_type": "code",
        "colab": {
          "base_uri": "https://localhost:8080/",
          "height": 34
        },
        "outputId": "2060a2de-dc92-4f01-fe88-56dc1c94bf60"
      },
      "source": [
        "print(len(df_ratings_2['movieId'].unique()))"
      ],
      "execution_count": 9,
      "outputs": [
        {
          "output_type": "stream",
          "text": [
            "26744\n"
          ],
          "name": "stdout"
        }
      ]
    },
    {
      "cell_type": "code",
      "metadata": {
        "id": "lQf28IAADOH5",
        "colab_type": "code",
        "colab": {
          "base_uri": "https://localhost:8080/",
          "height": 221
        },
        "outputId": "521eb552-91b0-4370-863b-27c400b17449"
      },
      "source": [
        "df_ratings_2['userId'].value_counts(ascending=True)"
      ],
      "execution_count": 10,
      "outputs": [
        {
          "output_type": "execute_result",
          "data": {
            "text/plain": [
              "58028       20\n",
              "80291       20\n",
              "34668       20\n",
              "23558       20\n",
              "59390       20\n",
              "          ... \n",
              "125794    5491\n",
              "121535    5520\n",
              "82418     5646\n",
              "8405      7515\n",
              "118205    9254\n",
              "Name: userId, Length: 138493, dtype: int64"
            ]
          },
          "metadata": {
            "tags": []
          },
          "execution_count": 10
        }
      ]
    },
    {
      "cell_type": "code",
      "metadata": {
        "id": "_uWa95m1DYrW",
        "colab_type": "code",
        "colab": {}
      },
      "source": [
        "df_movie=pd.read_csv(fldr+'/movie.csv')"
      ],
      "execution_count": 11,
      "outputs": []
    },
    {
      "cell_type": "code",
      "metadata": {
        "id": "Y8YUS8o7EoFf",
        "colab_type": "code",
        "colab": {
          "base_uri": "https://localhost:8080/",
          "height": 153
        },
        "outputId": "203a388c-95aa-4143-bd26-e6795dac3c03"
      },
      "source": [
        "print(df_movie.head())"
      ],
      "execution_count": 12,
      "outputs": [
        {
          "output_type": "stream",
          "text": [
            "   movieId  ...                                       genres\n",
            "0        1  ...  Adventure|Animation|Children|Comedy|Fantasy\n",
            "1        2  ...                   Adventure|Children|Fantasy\n",
            "2        3  ...                               Comedy|Romance\n",
            "3        4  ...                         Comedy|Drama|Romance\n",
            "4        5  ...                                       Comedy\n",
            "\n",
            "[5 rows x 3 columns]\n"
          ],
          "name": "stdout"
        }
      ]
    },
    {
      "cell_type": "code",
      "metadata": {
        "id": "atE2lNtlEuOy",
        "colab_type": "code",
        "colab": {
          "base_uri": "https://localhost:8080/",
          "height": 34
        },
        "outputId": "dd79a8e7-f5f0-4b5e-91e5-82166e260e9c"
      },
      "source": [
        "print(df_movie.columns)"
      ],
      "execution_count": 13,
      "outputs": [
        {
          "output_type": "stream",
          "text": [
            "Index(['movieId', 'title', 'genres'], dtype='object')\n"
          ],
          "name": "stdout"
        }
      ]
    },
    {
      "cell_type": "markdown",
      "metadata": {
        "id": "mkkbjTZgJYxH",
        "colab_type": "text"
      },
      "source": [
        "### Content Based Filtering"
      ]
    },
    {
      "cell_type": "code",
      "metadata": {
        "id": "ku6UtSXKE1Cd",
        "colab_type": "code",
        "colab": {}
      },
      "source": [
        "merged=df_movie.merge(df_ratings_2,on='movieId')"
      ],
      "execution_count": 14,
      "outputs": []
    },
    {
      "cell_type": "code",
      "metadata": {
        "id": "LQ3iBxjGMTnR",
        "colab_type": "code",
        "colab": {
          "base_uri": "https://localhost:8080/",
          "height": 34
        },
        "outputId": "b50fc18f-e0f2-4aaf-9bb4-064834857c4e"
      },
      "source": [
        "len(merged)"
      ],
      "execution_count": 15,
      "outputs": [
        {
          "output_type": "execute_result",
          "data": {
            "text/plain": [
              "20000263"
            ]
          },
          "metadata": {
            "tags": []
          },
          "execution_count": 15
        }
      ]
    },
    {
      "cell_type": "code",
      "metadata": {
        "id": "sY3EL19fFUC1",
        "colab_type": "code",
        "colab": {
          "base_uri": "https://localhost:8080/",
          "height": 34
        },
        "outputId": "11c7484f-d299-4424-8530-dceabf2880f6"
      },
      "source": [
        "merged.columns"
      ],
      "execution_count": 16,
      "outputs": [
        {
          "output_type": "execute_result",
          "data": {
            "text/plain": [
              "Index(['movieId', 'title', 'genres', 'userId', 'rating'], dtype='object')"
            ]
          },
          "metadata": {
            "tags": []
          },
          "execution_count": 16
        }
      ]
    },
    {
      "cell_type": "code",
      "metadata": {
        "id": "b9y-HjeRFZIx",
        "colab_type": "code",
        "colab": {
          "base_uri": "https://localhost:8080/",
          "height": 153
        },
        "outputId": "5c91f81b-e382-4f03-c8b2-ad0c1c2e7392"
      },
      "source": [
        "print(merged.head())"
      ],
      "execution_count": 17,
      "outputs": [
        {
          "output_type": "stream",
          "text": [
            "   movieId             title  ... userId  rating\n",
            "0        1  Toy Story (1995)  ...      3     4.0\n",
            "1        1  Toy Story (1995)  ...      6     5.0\n",
            "2        1  Toy Story (1995)  ...      8     4.0\n",
            "3        1  Toy Story (1995)  ...     10     4.0\n",
            "4        1  Toy Story (1995)  ...     11     4.5\n",
            "\n",
            "[5 rows x 5 columns]\n"
          ],
          "name": "stdout"
        }
      ]
    },
    {
      "cell_type": "code",
      "metadata": {
        "id": "EUMO45vSFgGy",
        "colab_type": "code",
        "colab": {}
      },
      "source": [
        "ratings_sum=merged.groupby(['movieId']).sum()['rating']"
      ],
      "execution_count": 18,
      "outputs": []
    },
    {
      "cell_type": "code",
      "metadata": {
        "id": "rYh-tkZTKku3",
        "colab_type": "code",
        "colab": {
          "base_uri": "https://localhost:8080/",
          "height": 34
        },
        "outputId": "6875beb8-724a-4b5b-c5d7-3b7e82c82701"
      },
      "source": [
        "len(ratings_sum)"
      ],
      "execution_count": 19,
      "outputs": [
        {
          "output_type": "execute_result",
          "data": {
            "text/plain": [
              "26744"
            ]
          },
          "metadata": {
            "tags": []
          },
          "execution_count": 19
        }
      ]
    },
    {
      "cell_type": "code",
      "metadata": {
        "id": "e3yQtTQwOpSu",
        "colab_type": "code",
        "colab": {}
      },
      "source": [
        "rating_d=ratings_sum.to_frame()"
      ],
      "execution_count": 20,
      "outputs": []
    },
    {
      "cell_type": "code",
      "metadata": {
        "id": "_USThWpqPorZ",
        "colab_type": "code",
        "colab": {}
      },
      "source": [
        "rating_n=rating_d.reset_index()"
      ],
      "execution_count": 21,
      "outputs": []
    },
    {
      "cell_type": "code",
      "metadata": {
        "id": "fh-Y7OS7Q44J",
        "colab_type": "code",
        "colab": {
          "base_uri": "https://localhost:8080/",
          "height": 119
        },
        "outputId": "d9c61671-d8fe-4b16-d539-fbd213ffc586"
      },
      "source": [
        "print(rating_n.head())"
      ],
      "execution_count": 22,
      "outputs": [
        {
          "output_type": "stream",
          "text": [
            "   movieId    rating\n",
            "0        1  194866.0\n",
            "1        2   71444.0\n",
            "2        3   40128.5\n",
            "3        4    7886.0\n",
            "4        5   37268.5\n"
          ],
          "name": "stdout"
        }
      ]
    },
    {
      "cell_type": "code",
      "metadata": {
        "id": "ONYGPlCqRLgi",
        "colab_type": "code",
        "colab": {
          "base_uri": "https://localhost:8080/",
          "height": 34
        },
        "outputId": "0ae26f4e-619c-4d8b-d223-e67cde066e31"
      },
      "source": [
        "df_movie.columns"
      ],
      "execution_count": 23,
      "outputs": [
        {
          "output_type": "execute_result",
          "data": {
            "text/plain": [
              "Index(['movieId', 'title', 'genres'], dtype='object')"
            ]
          },
          "metadata": {
            "tags": []
          },
          "execution_count": 23
        }
      ]
    },
    {
      "cell_type": "code",
      "metadata": {
        "id": "BRunGqtPU9An",
        "colab_type": "code",
        "colab": {
          "base_uri": "https://localhost:8080/",
          "height": 34
        },
        "outputId": "3aa131de-ebd0-490b-88b5-1645d1b1f6cb"
      },
      "source": [
        "len(df_movie)"
      ],
      "execution_count": 24,
      "outputs": [
        {
          "output_type": "execute_result",
          "data": {
            "text/plain": [
              "27278"
            ]
          },
          "metadata": {
            "tags": []
          },
          "execution_count": 24
        }
      ]
    },
    {
      "cell_type": "code",
      "metadata": {
        "id": "XUQkn-RNU20T",
        "colab_type": "code",
        "colab": {}
      },
      "source": [
        "final=df_movie.merge(rating_n,on='movieId')"
      ],
      "execution_count": 25,
      "outputs": []
    },
    {
      "cell_type": "code",
      "metadata": {
        "id": "SaI0XLIuVoY-",
        "colab_type": "code",
        "colab": {
          "base_uri": "https://localhost:8080/",
          "height": 153
        },
        "outputId": "f25eebc7-c998-46e5-8a87-6e9df86eb7f4"
      },
      "source": [
        "print(final.head())"
      ],
      "execution_count": 26,
      "outputs": [
        {
          "output_type": "stream",
          "text": [
            "   movieId  ...    rating\n",
            "0        1  ...  194866.0\n",
            "1        2  ...   71444.0\n",
            "2        3  ...   40128.5\n",
            "3        4  ...    7886.0\n",
            "4        5  ...   37268.5\n",
            "\n",
            "[5 rows x 4 columns]\n"
          ],
          "name": "stdout"
        }
      ]
    },
    {
      "cell_type": "code",
      "metadata": {
        "id": "-K1PKvaNVsyh",
        "colab_type": "code",
        "colab": {
          "base_uri": "https://localhost:8080/",
          "height": 34
        },
        "outputId": "0d447582-8de0-47df-cece-0beaa723303a"
      },
      "source": [
        "final.columns"
      ],
      "execution_count": 27,
      "outputs": [
        {
          "output_type": "execute_result",
          "data": {
            "text/plain": [
              "Index(['movieId', 'title', 'genres', 'rating'], dtype='object')"
            ]
          },
          "metadata": {
            "tags": []
          },
          "execution_count": 27
        }
      ]
    },
    {
      "cell_type": "code",
      "metadata": {
        "id": "e1a7st6uVxj6",
        "colab_type": "code",
        "colab": {
          "base_uri": "https://localhost:8080/",
          "height": 34
        },
        "outputId": "ca1e64d3-4c8c-47cd-b939-529d71f00636"
      },
      "source": [
        "print(final['rating'].min())"
      ],
      "execution_count": 28,
      "outputs": [
        {
          "output_type": "stream",
          "text": [
            "0.5\n"
          ],
          "name": "stdout"
        }
      ]
    },
    {
      "cell_type": "code",
      "metadata": {
        "id": "ocR2tQ_hWJIm",
        "colab_type": "code",
        "colab": {
          "base_uri": "https://localhost:8080/",
          "height": 34
        },
        "outputId": "7cef9f24-ef37-46d6-f2ee-43c91b37a846"
      },
      "source": [
        "print(final['rating'].max())"
      ],
      "execution_count": 29,
      "outputs": [
        {
          "output_type": "stream",
          "text": [
            "281788.0\n"
          ],
          "name": "stdout"
        }
      ]
    },
    {
      "cell_type": "code",
      "metadata": {
        "id": "WhV5ZaUGWMLU",
        "colab_type": "code",
        "colab": {
          "base_uri": "https://localhost:8080/",
          "height": 34
        },
        "outputId": "1c2afb9c-9e8b-4ec2-8b42-05c427e1d727"
      },
      "source": [
        "print(final['rating'].isnull().sum())"
      ],
      "execution_count": 30,
      "outputs": [
        {
          "output_type": "stream",
          "text": [
            "0\n"
          ],
          "name": "stdout"
        }
      ]
    },
    {
      "cell_type": "code",
      "metadata": {
        "id": "gmce2QTfWQtl",
        "colab_type": "code",
        "colab": {}
      },
      "source": [
        "from sklearn.feature_extraction.text import TfidfVectorizer"
      ],
      "execution_count": 31,
      "outputs": []
    },
    {
      "cell_type": "code",
      "metadata": {
        "id": "dmsedMSvWfdM",
        "colab_type": "code",
        "colab": {}
      },
      "source": [
        "vectorizer = TfidfVectorizer(analyzer='word',ngram_range=(1, 2),min_df=1)\n",
        "gen = vectorizer.fit_transform(final['genres'])"
      ],
      "execution_count": 32,
      "outputs": []
    },
    {
      "cell_type": "code",
      "metadata": {
        "id": "BKZDDjqucSBU",
        "colab_type": "code",
        "colab": {}
      },
      "source": [
        "names=[]\n",
        "i=0\n",
        "while i<len(final):\n",
        "   names.append(final.iloc[i]['title'].split(' (')[0])\n",
        "   i+=1\n",
        "\n",
        "final['title_mod']=names\n"
      ],
      "execution_count": 41,
      "outputs": []
    },
    {
      "cell_type": "code",
      "metadata": {
        "id": "tDOnulvVXBEN",
        "colab_type": "code",
        "colab": {
          "base_uri": "https://localhost:8080/",
          "height": 187
        },
        "outputId": "d91729dc-cfd6-4824-efb9-777e762ab29d"
      },
      "source": [
        "vectorizer.get_feature_names()[0:10]"
      ],
      "execution_count": 42,
      "outputs": [
        {
          "output_type": "execute_result",
          "data": {
            "text/plain": [
              "['action',\n",
              " 'action adventure',\n",
              " 'action animation',\n",
              " 'action children',\n",
              " 'action comedy',\n",
              " 'action crime',\n",
              " 'action documentary',\n",
              " 'action drama',\n",
              " 'action fantasy',\n",
              " 'action film']"
            ]
          },
          "metadata": {
            "tags": []
          },
          "execution_count": 42
        }
      ]
    },
    {
      "cell_type": "markdown",
      "metadata": {
        "id": "_lt-k59MfIa9",
        "colab_type": "text"
      },
      "source": [
        "Linear kernel means cosine Similarity"
      ]
    },
    {
      "cell_type": "code",
      "metadata": {
        "id": "LSgKscwuW43R",
        "colab_type": "code",
        "colab": {}
      },
      "source": [
        "from sklearn.metrics.pairwise import linear_kernel\n",
        "model = linear_kernel(gen, gen)"
      ],
      "execution_count": 33,
      "outputs": []
    },
    {
      "cell_type": "code",
      "metadata": {
        "id": "vMgKq3fmdabL",
        "colab_type": "code",
        "colab": {
          "base_uri": "https://localhost:8080/",
          "height": 34
        },
        "outputId": "da766437-87f7-4bca-e749-61e1a008138e"
      },
      "source": [
        "final.columns"
      ],
      "execution_count": 48,
      "outputs": [
        {
          "output_type": "execute_result",
          "data": {
            "text/plain": [
              "Index(['movieId', 'title', 'genres', 'rating', 'title_mod'], dtype='object')"
            ]
          },
          "metadata": {
            "tags": []
          },
          "execution_count": 48
        }
      ]
    },
    {
      "cell_type": "code",
      "metadata": {
        "id": "FVpd5HbgYYgA",
        "colab_type": "code",
        "colab": {}
      },
      "source": [
        "def get_recommendations(title):\n",
        "    #print(\"a\")\n",
        "    indices = pd.Series(final.index, index=final['title_mod']).drop_duplicates()\n",
        "    #print(\"b\")\n",
        "    idx = indices[title]\n",
        "    scores = list(enumerate(model[idx]))\n",
        "    scores = sorted(scores, key=lambda x: x[1], reverse=True)\n",
        "    #print(scores)\n",
        "    scores = scores[1:11]\n",
        "    movie_indices = [i[0] for i in scores]\n",
        "    return final['title_mod'].iloc[movie_indices]"
      ],
      "execution_count": 58,
      "outputs": []
    },
    {
      "cell_type": "code",
      "metadata": {
        "id": "mUDB0VeQYuTo",
        "colab_type": "code",
        "colab": {
          "base_uri": "https://localhost:8080/",
          "height": 204
        },
        "outputId": "c1ef2123-fdff-40c0-8813-9c0ece3425f6"
      },
      "source": [
        "get_recommendations('Toy Story')"
      ],
      "execution_count": 59,
      "outputs": [
        {
          "output_type": "execute_result",
          "data": {
            "text/plain": [
              "2209                                                 Antz\n",
              "3027                                          Toy Story 2\n",
              "3663              Adventures of Rocky and Bullwinkle, The\n",
              "3922                            Emperor's New Groove, The\n",
              "4790                                       Monsters, Inc.\n",
              "10106    DuckTales: The Movie - Treasure of the Lost Lamp\n",
              "10978                                           Wild, The\n",
              "11861                                     Shrek the Third\n",
              "13325                             Tale of Despereaux, The\n",
              "18230                             Asterix and the Vikings\n",
              "Name: title_mod, dtype: object"
            ]
          },
          "metadata": {
            "tags": []
          },
          "execution_count": 59
        }
      ]
    },
    {
      "cell_type": "code",
      "metadata": {
        "id": "ATFARKqRe-om",
        "colab_type": "code",
        "colab": {
          "base_uri": "https://localhost:8080/",
          "height": 204
        },
        "outputId": "9a3ad5c5-3f8a-4632-9ed1-d9d72dedab60"
      },
      "source": [
        "get_recommendations('Before and After')"
      ],
      "execution_count": 60,
      "outputs": [
        {
          "output_type": "execute_result",
          "data": {
            "text/plain": [
              "111             Before and After\n",
              "809                Kaspar Hauser\n",
              "906                 Citizen Kane\n",
              "1108            Jean de Florette\n",
              "1324          Breaking the Waves\n",
              "1635                     Amistad\n",
              "1829      Picnic at Hanging Rock\n",
              "1866    In the Heat of the Night\n",
              "1880                       Klute\n",
              "1940                Rapture, The\n",
              "Name: title_mod, dtype: object"
            ]
          },
          "metadata": {
            "tags": []
          },
          "execution_count": 60
        }
      ]
    },
    {
      "cell_type": "markdown",
      "metadata": {
        "id": "nKoz35yMhvUD",
        "colab_type": "text"
      },
      "source": [
        "We can create content based filtering to filter based on cast and director. We just need to append all of them in a single feature.\n",
        "\n",
        "So, [action,comedy,director name, actor name] and then use count vectorizer not tfidf because here we want to focus if a particular actor or director appeared in multple movies. Then use cosine_similarity to predict"
      ]
    }
  ]
}